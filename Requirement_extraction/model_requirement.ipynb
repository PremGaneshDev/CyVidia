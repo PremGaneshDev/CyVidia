{
 "cells": [
  {
   "cell_type": "code",
   "execution_count": 1,
   "metadata": {},
   "outputs": [
    {
     "name": "stderr",
     "output_type": "stream",
     "text": [
      "2023-11-13 11:34:46.780719: I tensorflow/core/platform/cpu_feature_guard.cc:182] This TensorFlow binary is optimized to use available CPU instructions in performance-critical operations.\n",
      "To enable the following instructions: AVX2 FMA, in other operations, rebuild TensorFlow with the appropriate compiler flags.\n"
     ]
    }
   ],
   "source": [
    "import pandas as pd\n",
    "import numpy as np\n",
    "from nltk.tokenize import word_tokenize\n",
    "from nltk.corpus import stopwords\n",
    "from tensorflow.keras.models import load_model\n",
    "from tensorflow.keras.preprocessing.sequence import pad_sequences\n",
    "import pickle\n"
   ]
  },
  {
   "cell_type": "code",
   "execution_count": 2,
   "metadata": {},
   "outputs": [],
   "source": [
    "model_path = '/Users/PremGanesh/Developer/AI/CyVidia/Trail 8/trained_model_rbi_jll_nist'\n",
    "model = load_model(model_path)\n",
    "\n",
    "with open('/Users/PremGanesh/Developer/AI/CyVidia/Trail 8/tokenizer.pickle', 'rb') as handle:\n",
    "    tokenizer = pickle.load(handle)\n",
    "\n",
    "with open('/Users/PremGanesh/Developer/AI/CyVidia/Trail 8/area_encoder.pickle', 'rb') as handle:\n",
    "    area_encoder = pickle.load(handle)\n",
    "\n",
    "with open('/Users/PremGanesh/Developer/AI/CyVidia/Trail 8/bucket_encoder.pickle', 'rb') as handle:\n",
    "    bucket_encoder = pickle.load(handle)\n"
   ]
  },
  {
   "cell_type": "code",
   "execution_count": 3,
   "metadata": {},
   "outputs": [],
   "source": [
    "def clean_text(text):\n",
    "    if isinstance(text, float) and np.isnan(text):\n",
    "        return \"\"\n",
    "    words = word_tokenize(text)\n",
    "    words = [word.lower() for word in words if word.isalnum()]\n",
    "    stop_words = set(stopwords.words('english'))\n",
    "    words = [word for word in words if word not in stop_words]\n",
    "    clean_text = ' '.join(words)\n",
    "    return clean_text\n"
   ]
  },
  {
   "cell_type": "code",
   "execution_count": 4,
   "metadata": {},
   "outputs": [],
   "source": [
    "excel_file_path = '/Users/PremGanesh/Developer/AI/CyVidia/Requirement_extraction/claro_requirement_data.xlsx'\n",
    "df = pd.read_excel(excel_file_path)\n"
   ]
  },
  {
   "cell_type": "code",
   "execution_count": 5,
   "metadata": {},
   "outputs": [],
   "source": [
    "df['Cleaned_Sentence'] = df['Sentence'].apply(clean_text)\n"
   ]
  },
  {
   "cell_type": "code",
   "execution_count": 6,
   "metadata": {},
   "outputs": [],
   "source": [
    "tokenized_sentences = tokenizer.texts_to_sequences(df['Cleaned_Sentence'])\n",
    "padded_sentences = pad_sequences(tokenized_sentences, maxlen=100)\n"
   ]
  },
  {
   "cell_type": "code",
   "execution_count": 1,
   "metadata": {},
   "outputs": [
    {
     "ename": "NameError",
     "evalue": "name 'model' is not defined",
     "output_type": "error",
     "traceback": [
      "\u001b[0;31m---------------------------------------------------------------------------\u001b[0m",
      "\u001b[0;31mNameError\u001b[0m                                 Traceback (most recent call last)",
      "\u001b[1;32m/Users/PremGanesh/Developer/AI/CyVidia/Requirement_extraction/model_requirement.ipynb Cell 7\u001b[0m line \u001b[0;36m1\n\u001b[0;32m----> <a href='vscode-notebook-cell:/Users/PremGanesh/Developer/AI/CyVidia/Requirement_extraction/model_requirement.ipynb#W6sZmlsZQ%3D%3D?line=0'>1</a>\u001b[0m sentence_predictions \u001b[39m=\u001b[39m model\u001b[39m.\u001b[39mpredict(padded_sentences)\n\u001b[1;32m      <a href='vscode-notebook-cell:/Users/PremGanesh/Developer/AI/CyVidia/Requirement_extraction/model_requirement.ipynb#W6sZmlsZQ%3D%3D?line=1'>2</a>\u001b[0m \u001b[39m# check the length of the predictions\u001b[39;00m\n\u001b[1;32m      <a href='vscode-notebook-cell:/Users/PremGanesh/Developer/AI/CyVidia/Requirement_extraction/model_requirement.ipynb#W6sZmlsZQ%3D%3D?line=2'>3</a>\u001b[0m \u001b[39mprint\u001b[39m(\u001b[39mlen\u001b[39m(sentence_predictions)) \n",
      "\u001b[0;31mNameError\u001b[0m: name 'model' is not defined"
     ]
    }
   ],
   "source": [
    "sentence_predictions = model.predict(padded_sentences)\n",
    "# check the length of the predictions\n",
    "print(len(sentence_predictions)) \n",
    "# check the lenght of the dataframe\n",
    "print(len(df))\n",
    "# Assuming your model outputs probabilities for different areas, you can threshold them to get binary predictions\n",
    "threshold = 0.5\n",
    "binary_sentence_predictions = [(area > threshold).astype(int) for area in sentence_predictions]\n",
    "\n",
    "# Decode the predictions using the label encoders\n",
    "sentence_labels = [area_encoder.classes_[prediction[0]] for prediction in binary_sentence_predictions]\n",
    "\n",
    "# Make sure the length of sentence_labels matches the length of the DataFrame\n",
    "if len(sentence_labels) == len(df):\n",
    "    # Add the predicted labels to the DataFrame\n",
    "    df['Related_to_Cybersecurity'] = sentence_labels\n",
    "else:\n",
    "    print(\"Error: Length of predictions does not match length of DataFrame.\")\n"
   ]
  }
 ],
 "metadata": {
  "kernelspec": {
   "display_name": ".myenvlocal",
   "language": "python",
   "name": "python3"
  },
  "language_info": {
   "codemirror_mode": {
    "name": "ipython",
    "version": 3
   },
   "file_extension": ".py",
   "mimetype": "text/x-python",
   "name": "python",
   "nbconvert_exporter": "python",
   "pygments_lexer": "ipython3",
   "version": "3.11.4"
  }
 },
 "nbformat": 4,
 "nbformat_minor": 2
}
