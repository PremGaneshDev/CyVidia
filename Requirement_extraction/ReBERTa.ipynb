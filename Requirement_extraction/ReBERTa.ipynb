{
 "cells": [
  {
   "cell_type": "code",
   "execution_count": null,
   "metadata": {},
   "outputs": [],
   "source": [
    "#cell 1\n",
    "import pandas as pd\n",
    "from sklearn.model_selection import train_test_split\n",
    "from sklearn.preprocessing import LabelEncoder\n",
    "from transformers import RobertaTokenizer, RobertaForSequenceClassification\n",
    "from torch.utils.data import Dataset, DataLoader\n",
    "import torch\n",
    "import torch.nn as nn\n",
    "from torch.optim import Adam\n"
   ]
  },
  {
   "cell_type": "code",
   "execution_count": null,
   "metadata": {},
   "outputs": [],
   "source": [
    "#cell 2\n",
    "# Load data\n",
    "df = pd.read_excel('/Users/PremGanesh/Developer/AI/CyVidia/Input_Data/Training Dataset.xlsx')\n",
    "\n",
    "# Preprocess data\n",
    "df['Requirement Description'] = df['Requirement Description'].apply(lambda x: x.strip())\n",
    "\n",
    "# Encode labels\n",
    "area_encoder = LabelEncoder()\n",
    "bucket_encoder = LabelEncoder()\n",
    "\n",
    "df['Area_Encoded'] = area_encoder.fit_transform(df['Requirement Area (NIST)'])\n",
    "df['Bucket_Encoded'] = bucket_encoder.fit_transform(df['Requirement Bucket(NIST)'])\n",
    "\n",
    "# Split data\n",
    "train_texts, val_texts, train_labels, val_labels = train_test_split(\n",
    "    df['Requirement Description'], df[['Area_Encoded', 'Bucket_Encoded']], \n",
    "    test_size=0.2\n",
    ")\n"
   ]
  },
  {
   "cell_type": "code",
   "execution_count": null,
   "metadata": {},
   "outputs": [],
   "source": [
    "#cell 3\n",
    "\n",
    "tokenizer = RobertaTokenizer.from_pretrained('roberta-base')\n",
    "\n",
    "class RequirementDataset(Dataset):\n",
    "    def __init__(self, texts, labels, tokenizer, max_len=512):\n",
    "        self.texts = texts\n",
    "        self.labels = labels\n",
    "        self.tokenizer = tokenizer\n",
    "        self.max_len = max_len\n",
    "\n",
    "    def __len__(self):\n",
    "        return len(self.texts)\n",
    "\n",
    "    def __getitem__(self, idx):\n",
    "        text = str(self.texts[idx])\n",
    "        labels = self.labels.iloc[idx].tolist()\n",
    "\n",
    "        encoding = self.tokenizer.encode_plus(\n",
    "          text,\n",
    "          add_special_tokens=True,\n",
    "          max_length=self.max_len,\n",
    "          return_token_type_ids=False,\n",
    "          padding='max_length',\n",
    "          return_attention_mask=True,\n",
    "          return_tensors='pt',\n",
    "          truncation=True\n",
    "        )\n",
    "\n",
    "        return {\n",
    "          'text': text,\n",
    "          'input_ids': encoding['input_ids'].flatten(),\n",
    "          'attention_mask': encoding['attention_mask'].flatten(),\n",
    "          'labels': torch.tensor(labels, dtype=torch.long)\n",
    "        }\n",
    "\n",
    "train_dataset = RequirementDataset(train_texts, train_labels, tokenizer)\n",
    "val_dataset = RequirementDataset(val_texts, val_labels, tokenizer)\n"
   ]
  },
  {
   "cell_type": "code",
   "execution_count": null,
   "metadata": {},
   "outputs": [],
   "source": [
    "# cell 4: Modify the RequirementModel class\n",
    "class RequirementModel(nn.Module):\n",
    "    def __init__(self, num_area_labels, num_bucket_labels):\n",
    "        super(RequirementModel, self).__init__()\n",
    "        self.roberta = RobertaForSequenceClassification.from_pretrained('roberta-base', return_dict=True)\n",
    "        self.area_classifier = nn.Linear(self.roberta.config.hidden_size, num_area_labels)\n",
    "        self.bucket_classifier = nn.Linear(self.roberta.config.hidden_size, num_bucket_labels)\n",
    "\n",
    "    def forward(self, input_ids, attention_mask):\n",
    "        outputs = self.roberta(input_ids=input_ids, attention_mask=attention_mask)\n",
    "        pooled_output = outputs.pooler_output\n",
    "        area_logits = self.area_classifier(pooled_output)\n",
    "        bucket_logits = self.bucket_classifier(pooled_output)\n",
    "        return area_logits, bucket_logits\n",
    "\n",
    "model = RequirementModel(len(area_encoder.classes_), len(bucket_encoder.classes_))\n",
    "model.to(device)"
   ]
  }
 ],
 "metadata": {
  "kernelspec": {
   "display_name": ".myenvlocal",
   "language": "python",
   "name": "python3"
  },
  "language_info": {
   "codemirror_mode": {
    "name": "ipython",
    "version": 3
   },
   "file_extension": ".py",
   "mimetype": "text/x-python",
   "name": "python",
   "nbconvert_exporter": "python",
   "pygments_lexer": "ipython3",
   "version": "3.11.4"
  }
 },
 "nbformat": 4,
 "nbformat_minor": 2
}
