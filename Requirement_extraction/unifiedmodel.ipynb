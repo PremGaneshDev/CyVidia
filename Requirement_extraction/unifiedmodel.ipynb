{
 "cells": [
  {
   "cell_type": "code",
   "execution_count": 1,
   "metadata": {},
   "outputs": [],
   "source": [
    "# Cell 1: Import Libraries\n",
    "import pandas as pd\n",
    "from sklearn.model_selection import train_test_split\n",
    "from sklearn.preprocessing import LabelEncoder\n",
    "from transformers import RobertaTokenizer, RobertaForSequenceClassification\n",
    "from torch.utils.data import Dataset, DataLoader\n",
    "import torch\n",
    "import torch.nn as nn\n",
    "from torch.optim import Adam\n"
   ]
  },
  {
   "cell_type": "markdown",
   "metadata": {},
   "source": [
    "Load and Preprocess Data"
   ]
  },
  {
   "cell_type": "code",
   "execution_count": 2,
   "metadata": {},
   "outputs": [],
   "source": [
    "# Cell 2: Load Data\n",
    "df = pd.read_excel('/Users/PremGanesh/Developer/AI/CyVidia/Input_Data/Training Dataset.xlsx')\n",
    "\n",
    "# Preprocess Data\n",
    "df['Requirement Description'] = df['Requirement Description'].astype(str).apply(lambda x: x.strip())\n",
    "\n",
    "# Encode Labels\n",
    "area_encoder = LabelEncoder()\n",
    "bucket_encoder = LabelEncoder()\n",
    "\n",
    "df['Area_Encoded'] = area_encoder.fit_transform(df['Requirement Area (NIST)'])\n",
    "df['Bucket_Encoded'] = bucket_encoder.fit_transform(df['Requirement Bucket(NIST)'])\n",
    "\n",
    "# Split Data\n",
    "train_texts, val_texts, train_labels, val_labels = train_test_split(\n",
    "    df['Requirement Description'], df[['Area_Encoded', 'Bucket_Encoded']], \n",
    "    test_size=0.2\n",
    ")\n"
   ]
  },
  {
   "cell_type": "markdown",
   "metadata": {},
   "source": [
    "Tokenize and Prepare Dataset"
   ]
  },
  {
   "cell_type": "code",
   "execution_count": 3,
   "metadata": {},
   "outputs": [],
   "source": [
    "# Cell 3: Tokenize and Prepare Dataset\n",
    "tokenizer = RobertaTokenizer.from_pretrained('roberta-base')\n",
    "\n",
    "class RequirementDataset(Dataset):\n",
    "    def __init__(self, texts, labels, tokenizer, max_len=512):\n",
    "        self.texts = texts\n",
    "        self.labels = labels\n",
    "        self.tokenizer = tokenizer\n",
    "        self.max_len = max_len\n",
    "\n",
    "    def __len__(self):\n",
    "        return len(self.texts)\n",
    "\n",
    "    def __getitem__(self, idx):\n",
    "        if idx >= len(self.texts):\n",
    "            raise IndexError(\"Index out of bounds in the dataset.\")\n",
    "        text = str(self.texts.iloc[idx])\n",
    "        labels = self.labels.iloc[idx].tolist()\n",
    "\n",
    "        encoding = self.tokenizer.encode_plus(\n",
    "          text,\n",
    "          add_special_tokens=True,\n",
    "          max_length=self.max_len,\n",
    "          return_token_type_ids=False,\n",
    "          padding='max_length',\n",
    "          return_attention_mask=True,\n",
    "          return_tensors='pt',\n",
    "          truncation=True\n",
    "        )\n",
    "\n",
    "        return {\n",
    "          'text': text,\n",
    "          'input_ids': encoding['input_ids'].flatten(),\n",
    "          'attention_mask': encoding['attention_mask'].flatten(),\n",
    "          'labels': torch.tensor(labels, dtype=torch.long)\n",
    "        }\n",
    "\n",
    "train_dataset = RequirementDataset(train_texts, train_labels, tokenizer)\n",
    "val_dataset = RequirementDataset(val_texts, val_labels, tokenizer)\n",
    "\n",
    "assert len(train_dataset) == len(train_texts)\n",
    "assert len(val_dataset) == len(val_texts)\n"
   ]
  },
  {
   "cell_type": "markdown",
   "metadata": {},
   "source": [
    "Define the Model"
   ]
  },
  {
   "cell_type": "code",
   "execution_count": 4,
   "metadata": {},
   "outputs": [
    {
     "name": "stderr",
     "output_type": "stream",
     "text": [
      "Some weights of RobertaForSequenceClassification were not initialized from the model checkpoint at roberta-base and are newly initialized: ['classifier.dense.weight', 'classifier.dense.bias', 'classifier.out_proj.weight', 'classifier.out_proj.bias']\n",
      "You should probably TRAIN this model on a down-stream task to be able to use it for predictions and inference.\n"
     ]
    }
   ],
   "source": [
    "# # Cell 4: Define the Model\n",
    "# class RequirementModel(nn.Module):\n",
    "#     def __init__(self, num_area_labels, num_bucket_labels):\n",
    "#         super(RequirementModel, self).__init__()\n",
    "#         self.roberta = RobertaForSequenceClassification.from_pretrained('roberta-base',return_dict=True,  num_labels=num_area_labels)\n",
    "#         self.area_classifier = nn.Linear(self.roberta.config.hidden_size, num_area_labels)\n",
    "#         self.bucket_classifier = nn.Linear(self.roberta.config.hidden_size, num_bucket_labels)\n",
    "\n",
    "#     def forward(self, input_ids, attention_mask):\n",
    "#         outputs = self.roberta(input_ids=input_ids, attention_mask=attention_mask)\n",
    "#         pooled_output = outputs[1]\n",
    "#         sequence_output = outputs.last_hidden_state[:, 0, :]\n",
    "#         area_logits = self.area_classifier(sequence_output)\n",
    "#         bucket_logits = self.bucket_classifier(sequence_output)\n",
    "#         return area_logits, bucket_logits\n",
    "\n",
    "# model = RequirementModel(len(area_encoder.classes_), len(bucket_encoder.classes_))\n",
    "# model.to(device)\n",
    "\n",
    "class RequirementModel(nn.Module):\n",
    "    def __init__(self, num_area_labels, num_bucket_labels):\n",
    "        super(RequirementModel, self).__init__()\n",
    "        self.roberta = RobertaForSequenceClassification.from_pretrained('roberta-base')\n",
    "        self.area_classifier = nn.Linear(self.roberta.config.hidden_size, num_area_labels)\n",
    "        self.bucket_classifier = nn.Linear(self.roberta.config.hidden_size, num_bucket_labels)\n",
    "\n",
    "    def forward(self, input_ids, attention_mask):\n",
    "        outputs = self.roberta(input_ids=input_ids, attention_mask=attention_mask)\n",
    "        # pooled_output = outputs.pooler_output  # Use pooler_output for classification tasks\n",
    "        area_logits = outputs.logits\n",
    "        # area_logits = self.area_classifier(pooled_output)\n",
    "        # Extract the last hidden state for bucket classification\n",
    "        last_hidden_state = outputs.hidden_states[-1][:, 0]\n",
    "        bucket_logits = self.bucket_classifier(last_hidden_state)\n",
    "        # bucket_logits = self.bucket_classifier(pooled_output)\n",
    "        last_hidden_state = outputs.hidden_states[-1][:, 0]\n",
    "\n",
    "        return area_logits, bucket_logits\n",
    "\n",
    "model = RequirementModel(len(area_encoder.classes_), len(bucket_encoder.classes_))\n",
    "# model.to(device)"
   ]
  },
  {
   "cell_type": "code",
   "execution_count": 5,
   "metadata": {},
   "outputs": [],
   "source": [
    "# Cell 5: Setup for Training and Evaluation\n",
    "device = torch.device(\"cuda\" if torch.cuda.is_available() else \"cpu\")\n",
    "model.to(device)\n",
    "\n",
    "train_data_loader = DataLoader(train_dataset, batch_size=16, shuffle=True)\n",
    "val_data_loader = DataLoader(val_dataset, batch_size=16, shuffle=False)\n",
    "\n",
    "optimizer = Adam(model.parameters(), lr=2e-5)\n"
   ]
  },
  {
   "cell_type": "code",
   "execution_count": 6,
   "metadata": {},
   "outputs": [],
   "source": [
    "# Cell 9: Implement train_epoch Function\n",
    "def train_epoch(model, data_loader, optimizer, device, n_examples):\n",
    "    model.train()\n",
    "    losses = []\n",
    "    correct_predictions = 0\n",
    "\n",
    "    for d in data_loader:\n",
    "        input_ids = d[\"input_ids\"].to(device)\n",
    "        attention_mask = d[\"attention_mask\"].to(device)\n",
    "        labels = d[\"labels\"].to(device)\n",
    "\n",
    "        outputs = model(input_ids=input_ids, attention_mask=attention_mask)\n",
    "        area_logits, bucket_logits = outputs\n",
    "\n",
    "        area_loss = nn.CrossEntropyLoss()(area_logits, labels[:, 0])\n",
    "        bucket_loss = nn.CrossEntropyLoss()(bucket_logits, labels[:, 1])\n",
    "        total_loss = area_loss + bucket_loss\n",
    "        losses.append(total_loss.item())\n",
    "\n",
    "        _, area_preds = torch.max(area_logits, dim=1)\n",
    "        _, bucket_preds = torch.max(bucket_logits, dim=1)\n",
    "\n",
    "        correct_predictions += torch.sum(area_preds == labels[:, 0]) + torch.sum(bucket_preds == labels[:, 1])\n",
    "\n",
    "        total_loss.backward()\n",
    "        nn.utils.clip_grad_norm_(model.parameters(), max_norm=1.0)\n",
    "        optimizer.step()\n",
    "        optimizer.zero_grad()\n",
    "\n",
    "    return correct_predictions.double() / (2 * n_examples), np.mean(losses)\n",
    "\n",
    "# Cell 10: Implement eval_model Function\n",
    "def eval_model(model, data_loader, device, n_examples):\n",
    "    model.eval()\n",
    "    losses = []\n",
    "    correct_predictions = 0\n",
    "\n",
    "    with torch.no_grad():\n",
    "        for d in data_loader:\n",
    "            input_ids = d[\"input_ids\"].to(device)\n",
    "            attention_mask = d[\"attention_mask\"].to(device)\n",
    "            labels = d[\"labels\"].to(device)\n",
    "\n",
    "            outputs = model(input_ids=input_ids, attention_mask=attention_mask)\n",
    "            area_logits, bucket_logits = outputs\n",
    "\n",
    "            area_loss = nn.CrossEntropyLoss()(area_logits, labels[:, 0])\n",
    "            bucket_loss = nn.CrossEntropyLoss()(bucket_logits, labels[:, 1])\n",
    "            total_loss = area_loss + bucket_loss\n",
    "            losses.append(total_loss.item())\n",
    "\n",
    "            _, area_preds = torch.max(area_logits, dim=1)\n",
    "            _, bucket_preds = torch.max(bucket_logits, dim=1)\n",
    "\n",
    "            correct_predictions += torch.sum(area_preds == labels[:, 0]) + torch.sum(bucket_preds == labels[:, 1])\n",
    "\n",
    "    return correct_predictions.double() / (2 * n_examples), np.mean(losses)\n"
   ]
  },
  {
   "cell_type": "code",
   "execution_count": 7,
   "metadata": {},
   "outputs": [
    {
     "name": "stdout",
     "output_type": "stream",
     "text": [
      "Epoch 1/3\n",
      "----------\n"
     ]
    },
    {
     "ename": "TypeError",
     "evalue": "'NoneType' object is not subscriptable",
     "output_type": "error",
     "traceback": [
      "\u001b[0;31m---------------------------------------------------------------------------\u001b[0m",
      "\u001b[0;31mTypeError\u001b[0m                                 Traceback (most recent call last)",
      "\u001b[1;32m/Users/PremGanesh/Developer/AI/CyVidia/Requirement_extraction/unifiedmodel.ipynb Cell 10\u001b[0m line \u001b[0;36m1\n\u001b[1;32m      <a href='vscode-notebook-cell:/Users/PremGanesh/Developer/AI/CyVidia/Requirement_extraction/unifiedmodel.ipynb#X16sZmlsZQ%3D%3D?line=6'>7</a>\u001b[0m \u001b[39mprint\u001b[39m(\u001b[39mf\u001b[39m\u001b[39m'\u001b[39m\u001b[39mEpoch \u001b[39m\u001b[39m{\u001b[39;00mepoch\u001b[39m \u001b[39m\u001b[39m+\u001b[39m\u001b[39m \u001b[39m\u001b[39m1\u001b[39m\u001b[39m}\u001b[39;00m\u001b[39m/\u001b[39m\u001b[39m{\u001b[39;00mnum_epochs\u001b[39m}\u001b[39;00m\u001b[39m'\u001b[39m)\n\u001b[1;32m      <a href='vscode-notebook-cell:/Users/PremGanesh/Developer/AI/CyVidia/Requirement_extraction/unifiedmodel.ipynb#X16sZmlsZQ%3D%3D?line=7'>8</a>\u001b[0m \u001b[39mprint\u001b[39m(\u001b[39m'\u001b[39m\u001b[39m-\u001b[39m\u001b[39m'\u001b[39m \u001b[39m*\u001b[39m \u001b[39m10\u001b[39m)\n\u001b[0;32m---> <a href='vscode-notebook-cell:/Users/PremGanesh/Developer/AI/CyVidia/Requirement_extraction/unifiedmodel.ipynb#X16sZmlsZQ%3D%3D?line=9'>10</a>\u001b[0m train_acc, train_loss \u001b[39m=\u001b[39m train_epoch(\n\u001b[1;32m     <a href='vscode-notebook-cell:/Users/PremGanesh/Developer/AI/CyVidia/Requirement_extraction/unifiedmodel.ipynb#X16sZmlsZQ%3D%3D?line=10'>11</a>\u001b[0m     model,\n\u001b[1;32m     <a href='vscode-notebook-cell:/Users/PremGanesh/Developer/AI/CyVidia/Requirement_extraction/unifiedmodel.ipynb#X16sZmlsZQ%3D%3D?line=11'>12</a>\u001b[0m     train_data_loader, \n\u001b[1;32m     <a href='vscode-notebook-cell:/Users/PremGanesh/Developer/AI/CyVidia/Requirement_extraction/unifiedmodel.ipynb#X16sZmlsZQ%3D%3D?line=12'>13</a>\u001b[0m     optimizer, \n\u001b[1;32m     <a href='vscode-notebook-cell:/Users/PremGanesh/Developer/AI/CyVidia/Requirement_extraction/unifiedmodel.ipynb#X16sZmlsZQ%3D%3D?line=13'>14</a>\u001b[0m     device, \n\u001b[1;32m     <a href='vscode-notebook-cell:/Users/PremGanesh/Developer/AI/CyVidia/Requirement_extraction/unifiedmodel.ipynb#X16sZmlsZQ%3D%3D?line=14'>15</a>\u001b[0m     \u001b[39mlen\u001b[39;49m(train_dataset)\n\u001b[1;32m     <a href='vscode-notebook-cell:/Users/PremGanesh/Developer/AI/CyVidia/Requirement_extraction/unifiedmodel.ipynb#X16sZmlsZQ%3D%3D?line=15'>16</a>\u001b[0m )\n\u001b[1;32m     <a href='vscode-notebook-cell:/Users/PremGanesh/Developer/AI/CyVidia/Requirement_extraction/unifiedmodel.ipynb#X16sZmlsZQ%3D%3D?line=16'>17</a>\u001b[0m \u001b[39mprint\u001b[39m(\u001b[39mf\u001b[39m\u001b[39m'\u001b[39m\u001b[39mTrain loss \u001b[39m\u001b[39m{\u001b[39;00mtrain_loss\u001b[39m}\u001b[39;00m\u001b[39m accuracy \u001b[39m\u001b[39m{\u001b[39;00mtrain_acc\u001b[39m}\u001b[39;00m\u001b[39m'\u001b[39m)\n\u001b[1;32m     <a href='vscode-notebook-cell:/Users/PremGanesh/Developer/AI/CyVidia/Requirement_extraction/unifiedmodel.ipynb#X16sZmlsZQ%3D%3D?line=18'>19</a>\u001b[0m val_acc, val_loss \u001b[39m=\u001b[39m eval_model(\n\u001b[1;32m     <a href='vscode-notebook-cell:/Users/PremGanesh/Developer/AI/CyVidia/Requirement_extraction/unifiedmodel.ipynb#X16sZmlsZQ%3D%3D?line=19'>20</a>\u001b[0m     model,\n\u001b[1;32m     <a href='vscode-notebook-cell:/Users/PremGanesh/Developer/AI/CyVidia/Requirement_extraction/unifiedmodel.ipynb#X16sZmlsZQ%3D%3D?line=20'>21</a>\u001b[0m     val_data_loader, \n\u001b[1;32m     <a href='vscode-notebook-cell:/Users/PremGanesh/Developer/AI/CyVidia/Requirement_extraction/unifiedmodel.ipynb#X16sZmlsZQ%3D%3D?line=21'>22</a>\u001b[0m     device, \n\u001b[1;32m     <a href='vscode-notebook-cell:/Users/PremGanesh/Developer/AI/CyVidia/Requirement_extraction/unifiedmodel.ipynb#X16sZmlsZQ%3D%3D?line=22'>23</a>\u001b[0m     \u001b[39mlen\u001b[39m(val_dataset)\n\u001b[1;32m     <a href='vscode-notebook-cell:/Users/PremGanesh/Developer/AI/CyVidia/Requirement_extraction/unifiedmodel.ipynb#X16sZmlsZQ%3D%3D?line=23'>24</a>\u001b[0m )\n",
      "\u001b[1;32m/Users/PremGanesh/Developer/AI/CyVidia/Requirement_extraction/unifiedmodel.ipynb Cell 10\u001b[0m line \u001b[0;36m1\n\u001b[1;32m      <a href='vscode-notebook-cell:/Users/PremGanesh/Developer/AI/CyVidia/Requirement_extraction/unifiedmodel.ipynb#X16sZmlsZQ%3D%3D?line=8'>9</a>\u001b[0m attention_mask \u001b[39m=\u001b[39m d[\u001b[39m\"\u001b[39m\u001b[39mattention_mask\u001b[39m\u001b[39m\"\u001b[39m]\u001b[39m.\u001b[39mto(device)\n\u001b[1;32m     <a href='vscode-notebook-cell:/Users/PremGanesh/Developer/AI/CyVidia/Requirement_extraction/unifiedmodel.ipynb#X16sZmlsZQ%3D%3D?line=9'>10</a>\u001b[0m labels \u001b[39m=\u001b[39m d[\u001b[39m\"\u001b[39m\u001b[39mlabels\u001b[39m\u001b[39m\"\u001b[39m]\u001b[39m.\u001b[39mto(device)\n\u001b[0;32m---> <a href='vscode-notebook-cell:/Users/PremGanesh/Developer/AI/CyVidia/Requirement_extraction/unifiedmodel.ipynb#X16sZmlsZQ%3D%3D?line=11'>12</a>\u001b[0m outputs \u001b[39m=\u001b[39m model(input_ids\u001b[39m=\u001b[39;49minput_ids, attention_mask\u001b[39m=\u001b[39;49mattention_mask)\n\u001b[1;32m     <a href='vscode-notebook-cell:/Users/PremGanesh/Developer/AI/CyVidia/Requirement_extraction/unifiedmodel.ipynb#X16sZmlsZQ%3D%3D?line=12'>13</a>\u001b[0m area_logits, bucket_logits \u001b[39m=\u001b[39m outputs\n\u001b[1;32m     <a href='vscode-notebook-cell:/Users/PremGanesh/Developer/AI/CyVidia/Requirement_extraction/unifiedmodel.ipynb#X16sZmlsZQ%3D%3D?line=14'>15</a>\u001b[0m area_loss \u001b[39m=\u001b[39m nn\u001b[39m.\u001b[39mCrossEntropyLoss()(area_logits, labels[:, \u001b[39m0\u001b[39m])\n",
      "File \u001b[0;32m~/Developer/AI/CyVidia/.myenvlocal/lib/python3.11/site-packages/torch/nn/modules/module.py:1518\u001b[0m, in \u001b[0;36mModule._wrapped_call_impl\u001b[0;34m(self, *args, **kwargs)\u001b[0m\n\u001b[1;32m   1516\u001b[0m     \u001b[39mreturn\u001b[39;00m \u001b[39mself\u001b[39m\u001b[39m.\u001b[39m_compiled_call_impl(\u001b[39m*\u001b[39margs, \u001b[39m*\u001b[39m\u001b[39m*\u001b[39mkwargs)  \u001b[39m# type: ignore[misc]\u001b[39;00m\n\u001b[1;32m   1517\u001b[0m \u001b[39melse\u001b[39;00m:\n\u001b[0;32m-> 1518\u001b[0m     \u001b[39mreturn\u001b[39;00m \u001b[39mself\u001b[39;49m\u001b[39m.\u001b[39;49m_call_impl(\u001b[39m*\u001b[39;49margs, \u001b[39m*\u001b[39;49m\u001b[39m*\u001b[39;49mkwargs)\n",
      "File \u001b[0;32m~/Developer/AI/CyVidia/.myenvlocal/lib/python3.11/site-packages/torch/nn/modules/module.py:1527\u001b[0m, in \u001b[0;36mModule._call_impl\u001b[0;34m(self, *args, **kwargs)\u001b[0m\n\u001b[1;32m   1522\u001b[0m \u001b[39m# If we don't have any hooks, we want to skip the rest of the logic in\u001b[39;00m\n\u001b[1;32m   1523\u001b[0m \u001b[39m# this function, and just call forward.\u001b[39;00m\n\u001b[1;32m   1524\u001b[0m \u001b[39mif\u001b[39;00m \u001b[39mnot\u001b[39;00m (\u001b[39mself\u001b[39m\u001b[39m.\u001b[39m_backward_hooks \u001b[39mor\u001b[39;00m \u001b[39mself\u001b[39m\u001b[39m.\u001b[39m_backward_pre_hooks \u001b[39mor\u001b[39;00m \u001b[39mself\u001b[39m\u001b[39m.\u001b[39m_forward_hooks \u001b[39mor\u001b[39;00m \u001b[39mself\u001b[39m\u001b[39m.\u001b[39m_forward_pre_hooks\n\u001b[1;32m   1525\u001b[0m         \u001b[39mor\u001b[39;00m _global_backward_pre_hooks \u001b[39mor\u001b[39;00m _global_backward_hooks\n\u001b[1;32m   1526\u001b[0m         \u001b[39mor\u001b[39;00m _global_forward_hooks \u001b[39mor\u001b[39;00m _global_forward_pre_hooks):\n\u001b[0;32m-> 1527\u001b[0m     \u001b[39mreturn\u001b[39;00m forward_call(\u001b[39m*\u001b[39;49margs, \u001b[39m*\u001b[39;49m\u001b[39m*\u001b[39;49mkwargs)\n\u001b[1;32m   1529\u001b[0m \u001b[39mtry\u001b[39;00m:\n\u001b[1;32m   1530\u001b[0m     result \u001b[39m=\u001b[39m \u001b[39mNone\u001b[39;00m\n",
      "\u001b[1;32m/Users/PremGanesh/Developer/AI/CyVidia/Requirement_extraction/unifiedmodel.ipynb Cell 10\u001b[0m line \u001b[0;36m3\n\u001b[1;32m     <a href='vscode-notebook-cell:/Users/PremGanesh/Developer/AI/CyVidia/Requirement_extraction/unifiedmodel.ipynb#X16sZmlsZQ%3D%3D?line=29'>30</a>\u001b[0m area_logits \u001b[39m=\u001b[39m outputs\u001b[39m.\u001b[39mlogits\n\u001b[1;32m     <a href='vscode-notebook-cell:/Users/PremGanesh/Developer/AI/CyVidia/Requirement_extraction/unifiedmodel.ipynb#X16sZmlsZQ%3D%3D?line=30'>31</a>\u001b[0m \u001b[39m# area_logits = self.area_classifier(pooled_output)\u001b[39;00m\n\u001b[1;32m     <a href='vscode-notebook-cell:/Users/PremGanesh/Developer/AI/CyVidia/Requirement_extraction/unifiedmodel.ipynb#X16sZmlsZQ%3D%3D?line=31'>32</a>\u001b[0m \u001b[39m# Extract the last hidden state for bucket classification\u001b[39;00m\n\u001b[0;32m---> <a href='vscode-notebook-cell:/Users/PremGanesh/Developer/AI/CyVidia/Requirement_extraction/unifiedmodel.ipynb#X16sZmlsZQ%3D%3D?line=32'>33</a>\u001b[0m last_hidden_state \u001b[39m=\u001b[39m outputs\u001b[39m.\u001b[39;49mhidden_states[\u001b[39m-\u001b[39;49m\u001b[39m1\u001b[39;49m][:, \u001b[39m0\u001b[39m]\n\u001b[1;32m     <a href='vscode-notebook-cell:/Users/PremGanesh/Developer/AI/CyVidia/Requirement_extraction/unifiedmodel.ipynb#X16sZmlsZQ%3D%3D?line=33'>34</a>\u001b[0m bucket_logits \u001b[39m=\u001b[39m \u001b[39mself\u001b[39m\u001b[39m.\u001b[39mbucket_classifier(last_hidden_state)\n\u001b[1;32m     <a href='vscode-notebook-cell:/Users/PremGanesh/Developer/AI/CyVidia/Requirement_extraction/unifiedmodel.ipynb#X16sZmlsZQ%3D%3D?line=34'>35</a>\u001b[0m \u001b[39m# bucket_logits = self.bucket_classifier(pooled_output)\u001b[39;00m\n",
      "\u001b[0;31mTypeError\u001b[0m: 'NoneType' object is not subscriptable"
     ]
    }
   ],
   "source": [
    "# Cell 6: Training Loop\n",
    "\n",
    "\n",
    "num_epochs = 3  # Number of epochs\n",
    "\n",
    "for epoch in range(num_epochs):\n",
    "    print(f'Epoch {epoch + 1}/{num_epochs}')\n",
    "    print('-' * 10)\n",
    "\n",
    "    train_acc, train_loss = train_epoch(\n",
    "        model,\n",
    "        train_data_loader, \n",
    "        optimizer, \n",
    "        device, \n",
    "        len(train_dataset)\n",
    "    )\n",
    "    print(f'Train loss {train_loss} accuracy {train_acc}')\n",
    "\n",
    "    val_acc, val_loss = eval_model(\n",
    "        model,\n",
    "        val_data_loader, \n",
    "        device, \n",
    "        len(val_dataset)\n",
    "    )\n",
    "    print(f'Validation loss {val_loss} accuracy {val_acc}')\n"
   ]
  },
  {
   "cell_type": "code",
   "execution_count": null,
   "metadata": {},
   "outputs": [],
   "source": [
    "# Cell 7: Training Loop\n",
    "num_epochs = 3  # Number of epochs\n",
    "\n",
    "for epoch in range(num_epochs):\n",
    "    print(f'Epoch {epoch + 1}/{num_epochs}')\n",
    "    print('-' * 10)\n",
    "\n",
    "    train_acc, train_loss = train_epoch(\n",
    "        model,\n",
    "        train_data_loader, \n",
    "        optimizer, \n",
    "        device, \n",
    "        len(train_dataset)\n",
    "    )\n",
    "    print(f'Train loss {train_loss} accuracy {train_acc}')\n",
    "\n",
    "    val_acc, val_loss = eval_model(\n",
    "        model,\n",
    "        val_data_loader, \n",
    "        device, \n",
    "        len(val_dataset)\n",
    "    )\n",
    "    print(f'Validation loss {val_loss} accuracy {val_acc}')\n"
   ]
  },
  {
   "cell_type": "code",
   "execution_count": null,
   "metadata": {},
   "outputs": [],
   "source": []
  }
 ],
 "metadata": {
  "kernelspec": {
   "display_name": ".myenvlocal",
   "language": "python",
   "name": "python3"
  },
  "language_info": {
   "codemirror_mode": {
    "name": "ipython",
    "version": 3
   },
   "file_extension": ".py",
   "mimetype": "text/x-python",
   "name": "python",
   "nbconvert_exporter": "python",
   "pygments_lexer": "ipython3",
   "version": "3.11.4"
  }
 },
 "nbformat": 4,
 "nbformat_minor": 2
}
