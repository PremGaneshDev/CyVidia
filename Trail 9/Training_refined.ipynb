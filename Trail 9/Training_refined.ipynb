{
 "cells": [
  {
   "cell_type": "markdown",
   "metadata": {},
   "source": [
    "Notebook Structure for POC1\n",
    "Cell 1: Import Libraries"
   ]
  },
  {
   "cell_type": "code",
   "execution_count": 4,
   "metadata": {},
   "outputs": [
    {
     "name": "stderr",
     "output_type": "stream",
     "text": [
      "[nltk_data] Downloading package punkt to\n",
      "[nltk_data]     /Users/PremGanesh/nltk_data...\n",
      "[nltk_data]   Package punkt is already up-to-date!\n",
      "[nltk_data] Downloading package stopwords to\n",
      "[nltk_data]     /Users/PremGanesh/nltk_data...\n",
      "[nltk_data]   Package stopwords is already up-to-date!\n"
     ]
    },
    {
     "data": {
      "text/plain": [
       "True"
      ]
     },
     "execution_count": 4,
     "metadata": {},
     "output_type": "execute_result"
    }
   ],
   "source": [
    "import pandas as pd\n",
    "import numpy as np\n",
    "import nltk\n",
    "from nltk.corpus import stopwords\n",
    "from nltk.tokenize import word_tokenize\n",
    "from sklearn.preprocessing import LabelEncoder\n",
    "from tensorflow.keras.preprocessing.text import Tokenizer\n",
    "from tensorflow.keras.preprocessing.sequence import pad_sequences\n",
    "from tensorflow.keras.models import Sequential, Model\n",
    "from tensorflow.keras.layers import Embedding, LSTM, Dense, Dropout, Bidirectional\n",
    "import tensorflow as tf\n",
    "import os\n",
    "import matplotlib.pyplot as plt\n",
    "from sklearn.model_selection import train_test_split\n",
    "\n",
    "# Ensure NLTK resources are available\n",
    "nltk.download('punkt')\n",
    "nltk.download('stopwords')\n"
   ]
  },
  {
   "cell_type": "markdown",
   "metadata": {},
   "source": [
    "Cell 2: Function Definitions"
   ]
  },
  {
   "cell_type": "code",
   "execution_count": 5,
   "metadata": {},
   "outputs": [],
   "source": [
    "def clean_text(text):\n",
    "    \"\"\"Clean the input text, removing stopwords and non-alphanumeric characters.\"\"\"\n",
    "    if isinstance(text, float) and np.isnan(text):\n",
    "        return \"\"\n",
    "    words = word_tokenize(text.lower())\n",
    "    words = [word for word in words if word.isalnum()]\n",
    "    stop_words = set(stopwords.words('english'))\n",
    "    return ' '.join([word for word in words if word not in stop_words])\n"
   ]
  },
  {
   "cell_type": "markdown",
   "metadata": {},
   "source": [
    "Cell 3: Load and Preprocess Data"
   ]
  },
  {
   "cell_type": "code",
   "execution_count": 6,
   "metadata": {},
   "outputs": [],
   "source": [
    "train_file_path = '/Users/PremGanesh/Developer/AI/CyVidia/Input_Data/Training Dataset 2.xlsx'\n",
    "train_df = pd.read_excel(train_file_path)\n",
    "train_df['Cleaned_Description'] = train_df['Requirement Description'].apply(clean_text)\n"
   ]
  },
  {
   "cell_type": "markdown",
   "metadata": {},
   "source": [
    "Cell 4: Tokenization and Padding"
   ]
  },
  {
   "cell_type": "code",
   "execution_count": 7,
   "metadata": {},
   "outputs": [],
   "source": [
    "# Define optimal vocabulary size based on previous analysis\n",
    "max_words = 10000  # Adjust this based on your analysis\n",
    "tokenizer = Tokenizer(num_words=max_words)\n",
    "tokenizer.fit_on_texts(train_df['Cleaned_Description'])\n",
    "X_train = tokenizer.texts_to_sequences(train_df['Cleaned_Description'])\n",
    "X_train = pad_sequences(X_train, maxlen=100)  # Adjust maxlen based on your data\n"
   ]
  },
  {
   "cell_type": "markdown",
   "metadata": {},
   "source": [
    "Cell 5: Label Encoding\n"
   ]
  },
  {
   "cell_type": "code",
   "execution_count": 8,
   "metadata": {},
   "outputs": [],
   "source": [
    "area_encoder = LabelEncoder()\n",
    "train_df['Requirement Area (NIST)'] = train_df['Requirement Area (NIST)'].str.lower()\n",
    "y_area_train = area_encoder.fit_transform(train_df['Requirement Area (NIST)'])\n",
    "\n",
    "bucket_encoder = LabelEncoder()\n",
    "train_df['Requirement Bucket(NIST)'] = train_df['Requirement Bucket(NIST)'].str.lower()\n",
    "y_bucket_train = bucket_encoder.fit_transform(train_df['Requirement Bucket(NIST)'])\n"
   ]
  },
  {
   "cell_type": "markdown",
   "metadata": {},
   "source": [
    "Cell 7: Label Encoding"
   ]
  },
  {
   "cell_type": "code",
   "execution_count": 9,
   "metadata": {},
   "outputs": [],
   "source": [
    "# Label encoding for 'Requirement Area' and 'Requirement Bucket'\n",
    "area_encoder = LabelEncoder()\n",
    "y_area_train = area_encoder.fit_transform(train_df['Requirement Area (NIST)'].str.lower())\n",
    "\n",
    "bucket_encoder = LabelEncoder()\n",
    "y_bucket_train = bucket_encoder.fit_transform(train_df['Requirement Bucket(NIST)'].str.lower())\n"
   ]
  },
  {
   "cell_type": "markdown",
   "metadata": {},
   "source": [
    "Cell 9: Model Architecture\n"
   ]
  },
  {
   "cell_type": "code",
   "execution_count": 10,
   "metadata": {},
   "outputs": [],
   "source": [
    "# Define the model architecture\n",
    "model = Sequential()\n",
    "model.add(Embedding(input_dim=1000, output_dim=128, input_length=100)) # Adjust as needed\n",
    "model.add(Bidirectional(LSTM(128, return_sequences=True)))  # Add more LSTM layers as needed\n",
    "model.add(Bidirectional(LSTM(64)))\n",
    "model.add(Dense(64, activation='relu'))\n",
    "model.add(Dropout(0.5))\n",
    "model.add(Dense(len(area_encoder.classes_), activation='softmax', name='output_area'))\n",
    "model.add(Dense(len(bucket_encoder.classes_), activation='softmax', name='output_bucket'))\n",
    "model.compile(loss='sparse_categorical_crossentropy', optimizer='adam', metrics=['accuracy'])\n"
   ]
  },
  {
   "cell_type": "markdown",
   "metadata": {},
   "source": [
    "Cell 10: Model Training"
   ]
  },
  {
   "cell_type": "code",
   "execution_count": 11,
   "metadata": {},
   "outputs": [
    {
     "name": "stdout",
     "output_type": "stream",
     "text": [
      "Epoch 1/100\n"
     ]
    },
    {
     "ename": "ValueError",
     "evalue": "in user code:\n\n    File \"/Users/PremGanesh/Developer/AI/CyVidia/.myenvlocal/lib/python3.11/site-packages/keras/src/engine/training.py\", line 1377, in train_function  *\n        return step_function(self, iterator)\n    File \"/Users/PremGanesh/Developer/AI/CyVidia/.myenvlocal/lib/python3.11/site-packages/keras/src/engine/training.py\", line 1360, in step_function  **\n        outputs = model.distribute_strategy.run(run_step, args=(data,))\n    File \"/Users/PremGanesh/Developer/AI/CyVidia/.myenvlocal/lib/python3.11/site-packages/keras/src/engine/training.py\", line 1349, in run_step  **\n        outputs = model.train_step(data)\n    File \"/Users/PremGanesh/Developer/AI/CyVidia/.myenvlocal/lib/python3.11/site-packages/keras/src/engine/training.py\", line 1127, in train_step\n        loss = self.compute_loss(x, y, y_pred, sample_weight)\n    File \"/Users/PremGanesh/Developer/AI/CyVidia/.myenvlocal/lib/python3.11/site-packages/keras/src/engine/training.py\", line 1185, in compute_loss\n        return self.compiled_loss(\n    File \"/Users/PremGanesh/Developer/AI/CyVidia/.myenvlocal/lib/python3.11/site-packages/keras/src/engine/compile_utils.py\", line 248, in __call__\n        y_true = self._conform_to_outputs(y_pred, y_true)\n    File \"/Users/PremGanesh/Developer/AI/CyVidia/.myenvlocal/lib/python3.11/site-packages/keras/src/engine/compile_utils.py\", line 63, in _conform_to_outputs\n        struct = map_to_output_names(outputs, self._output_names, struct)\n    File \"/Users/PremGanesh/Developer/AI/CyVidia/.myenvlocal/lib/python3.11/site-packages/keras/src/engine/compile_utils.py\", line 819, in map_to_output_names\n        raise ValueError(\n\n    ValueError: Found unexpected losses or metrics that do not correspond to any Model output: dict_keys(['output_area']). Valid mode output names: ['output_bucket']. Received struct is: {'output_area': <tf.Tensor 'IteratorGetNext:1' shape=(None,) dtype=int64>}.\n",
     "output_type": "error",
     "traceback": [
      "\u001b[0;31m---------------------------------------------------------------------------\u001b[0m",
      "\u001b[0;31mValueError\u001b[0m                                Traceback (most recent call last)",
      "\u001b[1;32m/Users/PremGanesh/Developer/AI/CyVidia/Trail 9/Training_refined.ipynb Cell 16\u001b[0m line \u001b[0;36m2\n\u001b[1;32m      <a href='vscode-notebook-cell:/Users/PremGanesh/Developer/AI/CyVidia/Trail%209/Training_refined.ipynb#X25sZmlsZQ%3D%3D?line=0'>1</a>\u001b[0m \u001b[39m# Train the model on the entire training data\u001b[39;00m\n\u001b[0;32m----> <a href='vscode-notebook-cell:/Users/PremGanesh/Developer/AI/CyVidia/Trail%209/Training_refined.ipynb#X25sZmlsZQ%3D%3D?line=1'>2</a>\u001b[0m history \u001b[39m=\u001b[39m model\u001b[39m.\u001b[39;49mfit(X_train, {\u001b[39m'\u001b[39;49m\u001b[39moutput_area\u001b[39;49m\u001b[39m'\u001b[39;49m: y_area_train, \u001b[39m'\u001b[39;49m\u001b[39moutput_bucket\u001b[39;49m\u001b[39m'\u001b[39;49m: y_bucket_train}, \n\u001b[1;32m      <a href='vscode-notebook-cell:/Users/PremGanesh/Developer/AI/CyVidia/Trail%209/Training_refined.ipynb#X25sZmlsZQ%3D%3D?line=2'>3</a>\u001b[0m                     epochs\u001b[39m=\u001b[39;49m\u001b[39m100\u001b[39;49m, batch_size\u001b[39m=\u001b[39;49m\u001b[39m32\u001b[39;49m)\n",
      "File \u001b[0;32m~/Developer/AI/CyVidia/.myenvlocal/lib/python3.11/site-packages/keras/src/utils/traceback_utils.py:70\u001b[0m, in \u001b[0;36mfilter_traceback.<locals>.error_handler\u001b[0;34m(*args, **kwargs)\u001b[0m\n\u001b[1;32m     67\u001b[0m     filtered_tb \u001b[39m=\u001b[39m _process_traceback_frames(e\u001b[39m.\u001b[39m__traceback__)\n\u001b[1;32m     68\u001b[0m     \u001b[39m# To get the full stack trace, call:\u001b[39;00m\n\u001b[1;32m     69\u001b[0m     \u001b[39m# `tf.debugging.disable_traceback_filtering()`\u001b[39;00m\n\u001b[0;32m---> 70\u001b[0m     \u001b[39mraise\u001b[39;00m e\u001b[39m.\u001b[39mwith_traceback(filtered_tb) \u001b[39mfrom\u001b[39;00m \u001b[39mNone\u001b[39;00m\n\u001b[1;32m     71\u001b[0m \u001b[39mfinally\u001b[39;00m:\n\u001b[1;32m     72\u001b[0m     \u001b[39mdel\u001b[39;00m filtered_tb\n",
      "File \u001b[0;32m/var/folders/8f/qbzqcjnn6vj5bg87v7rvdm4r0000gp/T/__autograph_generated_file4cw5r8zv.py:15\u001b[0m, in \u001b[0;36mouter_factory.<locals>.inner_factory.<locals>.tf__train_function\u001b[0;34m(iterator)\u001b[0m\n\u001b[1;32m     13\u001b[0m \u001b[39mtry\u001b[39;00m:\n\u001b[1;32m     14\u001b[0m     do_return \u001b[39m=\u001b[39m \u001b[39mTrue\u001b[39;00m\n\u001b[0;32m---> 15\u001b[0m     retval_ \u001b[39m=\u001b[39m ag__\u001b[39m.\u001b[39mconverted_call(ag__\u001b[39m.\u001b[39mld(step_function), (ag__\u001b[39m.\u001b[39mld(\u001b[39mself\u001b[39m), ag__\u001b[39m.\u001b[39mld(iterator)), \u001b[39mNone\u001b[39;00m, fscope)\n\u001b[1;32m     16\u001b[0m \u001b[39mexcept\u001b[39;00m:\n\u001b[1;32m     17\u001b[0m     do_return \u001b[39m=\u001b[39m \u001b[39mFalse\u001b[39;00m\n",
      "\u001b[0;31mValueError\u001b[0m: in user code:\n\n    File \"/Users/PremGanesh/Developer/AI/CyVidia/.myenvlocal/lib/python3.11/site-packages/keras/src/engine/training.py\", line 1377, in train_function  *\n        return step_function(self, iterator)\n    File \"/Users/PremGanesh/Developer/AI/CyVidia/.myenvlocal/lib/python3.11/site-packages/keras/src/engine/training.py\", line 1360, in step_function  **\n        outputs = model.distribute_strategy.run(run_step, args=(data,))\n    File \"/Users/PremGanesh/Developer/AI/CyVidia/.myenvlocal/lib/python3.11/site-packages/keras/src/engine/training.py\", line 1349, in run_step  **\n        outputs = model.train_step(data)\n    File \"/Users/PremGanesh/Developer/AI/CyVidia/.myenvlocal/lib/python3.11/site-packages/keras/src/engine/training.py\", line 1127, in train_step\n        loss = self.compute_loss(x, y, y_pred, sample_weight)\n    File \"/Users/PremGanesh/Developer/AI/CyVidia/.myenvlocal/lib/python3.11/site-packages/keras/src/engine/training.py\", line 1185, in compute_loss\n        return self.compiled_loss(\n    File \"/Users/PremGanesh/Developer/AI/CyVidia/.myenvlocal/lib/python3.11/site-packages/keras/src/engine/compile_utils.py\", line 248, in __call__\n        y_true = self._conform_to_outputs(y_pred, y_true)\n    File \"/Users/PremGanesh/Developer/AI/CyVidia/.myenvlocal/lib/python3.11/site-packages/keras/src/engine/compile_utils.py\", line 63, in _conform_to_outputs\n        struct = map_to_output_names(outputs, self._output_names, struct)\n    File \"/Users/PremGanesh/Developer/AI/CyVidia/.myenvlocal/lib/python3.11/site-packages/keras/src/engine/compile_utils.py\", line 819, in map_to_output_names\n        raise ValueError(\n\n    ValueError: Found unexpected losses or metrics that do not correspond to any Model output: dict_keys(['output_area']). Valid mode output names: ['output_bucket']. Received struct is: {'output_area': <tf.Tensor 'IteratorGetNext:1' shape=(None,) dtype=int64>}.\n"
     ]
    }
   ],
   "source": [
    "# Train the model on the entire training data\n",
    "history = model.fit(X_train, {'output_area': y_area_train, 'output_bucket': y_bucket_train}, \n",
    "                    epochs=100, batch_size=32)"
   ]
  },
  {
   "cell_type": "markdown",
   "metadata": {},
   "source": [
    "Cell 12: Save the Trained Model"
   ]
  },
  {
   "cell_type": "code",
   "execution_count": null,
   "metadata": {},
   "outputs": [],
   "source": [
    "# Check if the directory for the model exists, if not, create it\n",
    "model_dir = 'models/'\n",
    "if not os.path.exists(model_dir):\n",
    "    os.makedirs(model_dir)\n",
    "\n",
    "# Save the model\n",
    "model.save(os.path.join(model_dir, 'trained_model_rbi_jll_nist.h5'))\n",
    "print(\"Model saved successfully.\")\n"
   ]
  },
  {
   "cell_type": "markdown",
   "metadata": {},
   "source": [
    "Cell 13: Visualization of Training History\n"
   ]
  },
  {
   "cell_type": "code",
   "execution_count": null,
   "metadata": {},
   "outputs": [],
   "source": [
    "# Plot the training history for accuracy\n",
    "plt.figure(figsize=(10, 5))\n",
    "plt.plot(history.history['output_area_accuracy'])\n",
    "plt.plot(history.history['output_bucket_accuracy'])\n",
    "plt.title('Model Accuracy over Epochs')\n",
    "plt.ylabel('Accuracy')\n",
    "plt.xlabel('Epoch')\n",
    "plt.legend(['Area', 'Bucket'], loc='upper left')\n",
    "plt.show()\n",
    "\n",
    "# Plot the training history for loss\n",
    "plt.figure(figsize=(10, 5))\n",
    "plt.plot(history.history['loss'])\n",
    "plt.title('Model Loss over Epochs')\n",
    "plt.ylabel('Loss')\n",
    "plt.xlabel('Epoch')\n",
    "plt.legend(['Training Loss'], loc='upper right')\n",
    "plt.show()\n"
   ]
  }
 ],
 "metadata": {
  "kernelspec": {
   "display_name": ".myenvlocal",
   "language": "python",
   "name": "python3"
  },
  "language_info": {
   "codemirror_mode": {
    "name": "ipython",
    "version": 3
   },
   "file_extension": ".py",
   "mimetype": "text/x-python",
   "name": "python",
   "nbconvert_exporter": "python",
   "pygments_lexer": "ipython3",
   "version": "3.11.4"
  }
 },
 "nbformat": 4,
 "nbformat_minor": 2
}
